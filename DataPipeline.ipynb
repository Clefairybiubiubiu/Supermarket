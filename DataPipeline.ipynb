{
 "cells": [
  {
   "cell_type": "markdown",
   "id": "9f11d94e-7075-4d2a-979a-5f534aa499f0",
   "metadata": {},
   "source": [
    "## Step 1: Install required packages"
   ]
  },
  {
   "cell_type": "code",
   "execution_count": 22,
   "id": "8b57e56c-8cee-4b34-917b-f9fb7c48767b",
   "metadata": {},
   "outputs": [
    {
     "name": "stdout",
     "output_type": "stream",
     "text": [
      "Looking in indexes: https://pypi.tuna.tsinghua.edu.cn/simple\n",
      "Requirement already satisfied: sqlalchemy in /opt/anaconda3/lib/python3.12/site-packages (2.0.34)\n",
      "Requirement already satisfied: typing-extensions>=4.6.0 in /opt/anaconda3/lib/python3.12/site-packages (from sqlalchemy) (4.11.0)\n",
      "Requirement already satisfied: greenlet!=0.4.17 in /opt/anaconda3/lib/python3.12/site-packages (from sqlalchemy) (3.0.1)\n"
     ]
    }
   ],
   "source": [
    "!pip install sqlalchemy"
   ]
  },
  {
   "cell_type": "code",
   "execution_count": 23,
   "id": "d4f7a47c-cd57-4bd1-ad79-88e36b22f0b4",
   "metadata": {},
   "outputs": [
    {
     "name": "stdout",
     "output_type": "stream",
     "text": [
      "Looking in indexes: https://pypi.tuna.tsinghua.edu.cn/simple\n",
      "Requirement already satisfied: psycopg2-binary in /opt/anaconda3/lib/python3.12/site-packages (2.9.10)\n",
      "Requirement already satisfied: sqlalchemy in /opt/anaconda3/lib/python3.12/site-packages (2.0.34)\n",
      "Requirement already satisfied: typing-extensions>=4.6.0 in /opt/anaconda3/lib/python3.12/site-packages (from sqlalchemy) (4.11.0)\n",
      "Requirement already satisfied: greenlet!=0.4.17 in /opt/anaconda3/lib/python3.12/site-packages (from sqlalchemy) (3.0.1)\n"
     ]
    }
   ],
   "source": [
    "!pip install psycopg2-binary sqlalchemy"
   ]
  },
  {
   "cell_type": "code",
   "execution_count": 25,
   "id": "739b6c8e-3b39-4fda-9c02-26b576346a83",
   "metadata": {},
   "outputs": [],
   "source": [
    "from sqlalchemy import create_engine\n",
    "import pandas as pd"
   ]
  },
  {
   "cell_type": "markdown",
   "id": "0bbcf25c-c210-4734-96c1-f0c3088d0958",
   "metadata": {},
   "source": [
    "## Step 2: Set up PostgreSQL database connection info"
   ]
  },
  {
   "cell_type": "code",
   "execution_count": 29,
   "id": "024e4154-32bf-475d-b5fa-f1f92f4e53fe",
   "metadata": {},
   "outputs": [],
   "source": [
    "username = 'postgres'      \n",
    "password = '123'     \n",
    "host = 'localhost'              \n",
    "port = '5432'                   \n",
    "database = '5310GP'      \n",
    "\n",
    "engine = create_engine(f'postgresql://{username}:{password}@{host}:{port}/{database}')"
   ]
  },
  {
   "cell_type": "markdown",
   "id": "3419de02-8bc5-47ab-84fe-eb0d7e1e41aa",
   "metadata": {},
   "source": [
    "## Step 3: Load CSV file and preprocess"
   ]
  },
  {
   "cell_type": "code",
   "execution_count": 32,
   "id": "774347a8-c97d-407b-9f92-ad59dd214590",
   "metadata": {},
   "outputs": [
    {
     "name": "stderr",
     "output_type": "stream",
     "text": [
      "/var/folders/rb/d77z3j_56wn8cd0292h31j740000gn/T/ipykernel_5707/1356442537.py:4: UserWarning: Could not infer format, so each element will be parsed individually, falling back to `dateutil`. To ensure parsing is consistent and as-expected, please specify a format.\n",
      "  df['time'] = pd.to_datetime(df['time']).dt.time\n"
     ]
    }
   ],
   "source": [
    "df = pd.read_csv(\"supermarket_sales - Sheet1.csv\")\n",
    "df.columns = df.columns.str.strip().str.lower().str.replace(' ', '_').str.replace('%', 'percent')\n",
    "df['date'] = pd.to_datetime(df['date'], format='%m/%d/%Y')\n",
    "df['time'] = pd.to_datetime(df['time']).dt.time"
   ]
  },
  {
   "cell_type": "markdown",
   "id": "3ff80b17-563f-46b3-9805-5ad4b189ddac",
   "metadata": {},
   "source": [
    "## Step 4: Create surrogate IDs for normalization"
   ]
  },
  {
   "cell_type": "code",
   "execution_count": 35,
   "id": "82ebfd86-d374-4497-b5d1-b44d4e7d57cc",
   "metadata": {},
   "outputs": [],
   "source": [
    "df['product_line_id'] = df['product_line'].astype('category').cat.codes + 1\n",
    "df['city_id'] = df['city'].astype('category').cat.codes + 1\n",
    "df['store_id'] = df['branch'].astype('category').cat.codes + 1\n",
    "df['customer_id'] = df.index + 1  # Assume each row represents one customer\n",
    "df['payment_id'] = df['payment'].astype('category').cat.codes + 1\n",
    "\n",
    "# Generate product_id based on unique combination of product line and unit price\n",
    "product_combos = df[['product_line_id', 'unit_price']].drop_duplicates().reset_index(drop=True)\n",
    "product_combos['product_id'] = range(1, len(product_combos) + 1)\n",
    "df = df.merge(product_combos, on=['product_line_id', 'unit_price'], how='left')\n"
   ]
  },
  {
   "cell_type": "markdown",
   "id": "a01d249d-128b-4336-adf1-c3308bb27bc1",
   "metadata": {},
   "source": [
    "## Step 5: Create 10 normalized tables"
   ]
  },
  {
   "cell_type": "code",
   "execution_count": 38,
   "id": "35b62af0-88c4-440d-b3c3-32f89a726732",
   "metadata": {},
   "outputs": [],
   "source": [
    "# Products table\n",
    "products = product_combos[['product_id', 'product_line_id', 'unit_price']]\n",
    "\n",
    "# Product lines\n",
    "product_lines = df[['product_line_id', 'product_line']].drop_duplicates().rename(columns={'product_line': 'product_line_name'})\n",
    "\n",
    "# Cities\n",
    "cities = df[['city_id', 'city']].drop_duplicates().rename(columns={'city': 'city_name'})\n",
    "\n",
    "# Stores\n",
    "stores = df[['store_id', 'branch', 'city_id']].drop_duplicates().rename(columns={'branch': 'branch_code'})\n",
    "\n",
    "# Customers\n",
    "customers = df[['customer_id', 'gender', 'customer_type']]\n",
    "\n",
    "# Payments\n",
    "payments = df[['payment_id', 'payment']].drop_duplicates().rename(columns={'payment': 'payment_method'})\n",
    "\n",
    "# Calendar date dimension\n",
    "calendar = df[['date']].drop_duplicates().rename(columns={'date': 'transaction_date'})\n",
    "calendar['day'] = calendar['transaction_date'].dt.day\n",
    "calendar['month'] = calendar['transaction_date'].dt.month\n",
    "calendar['year'] = calendar['transaction_date'].dt.year\n",
    "calendar['quarter'] = calendar['transaction_date'].dt.quarter\n",
    "calendar['weekday'] = calendar['transaction_date'].dt.day_name()\n",
    "\n",
    "# Sales transaction header table\n",
    "sales_transactions = df[['invoice_id', 'store_id', 'customer_id', 'date', 'time', 'payment_id', 'total']].rename(columns={\n",
    "    'date': 'transaction_date',\n",
    "    'time': 'transaction_time',\n",
    "    'payment_id': 'payment_method',\n",
    "    'total': 'total_amount'\n",
    "})\n",
    "\n",
    "# Sales item detail table\n",
    "sales_items = df[['invoice_id', 'product_id', 'unit_price', 'quantity']]\n",
    "\n",
    "# Financials (revenue & cost breakdown)\n",
    "financials = df[['invoice_id', 'tax_5percent', 'cogs', 'gross_income', 'rating']].rename(columns={'tax_5percent': 'tax'})\n"
   ]
  },
  {
   "cell_type": "markdown",
   "id": "f06a1fab-8330-418d-a8bf-2d84351c1052",
   "metadata": {},
   "source": [
    "## Step 6: Upload all tables to PostgreSQL"
   ]
  },
  {
   "cell_type": "code",
   "execution_count": 41,
   "id": "513eb85e-76fe-4c14-ac92-2136618b209b",
   "metadata": {},
   "outputs": [
    {
     "name": "stdout",
     "output_type": "stream",
     "text": [
      "✅ Table 'products' uploaded successfully.\n",
      "✅ Table 'product_lines' uploaded successfully.\n",
      "✅ Table 'cities' uploaded successfully.\n",
      "✅ Table 'stores' uploaded successfully.\n",
      "✅ Table 'customers' uploaded successfully.\n",
      "✅ Table 'payments' uploaded successfully.\n",
      "✅ Table 'calendar' uploaded successfully.\n",
      "✅ Table 'sales_transactions' uploaded successfully.\n",
      "✅ Table 'sales_items' uploaded successfully.\n",
      "✅ Table 'financials' uploaded successfully.\n"
     ]
    }
   ],
   "source": [
    "tables = {\n",
    "    'products': products,\n",
    "    'product_lines': product_lines,\n",
    "    'cities': cities,\n",
    "    'stores': stores,\n",
    "    'customers': customers,\n",
    "    'payments': payments,\n",
    "    'calendar': calendar,\n",
    "    'sales_transactions': sales_transactions,\n",
    "    'sales_items': sales_items,\n",
    "    'financials': financials\n",
    "}\n",
    "\n",
    "# Loop through and upload each table\n",
    "for table_name, df_table in tables.items():\n",
    "    df_table.to_sql(table_name, engine, if_exists='replace', index=False)\n",
    "    print(f\"✅ Table '{table_name}' uploaded successfully.\")"
   ]
  },
  {
   "cell_type": "markdown",
   "id": "61a9bcbb-999e-4196-a21e-deecdf6dd4cb",
   "metadata": {},
   "source": [
    "## Step 7: Add Primary and Foreign Key Constraints (PostgreSQL)\n",
    "\n",
    "Since the initial tables were created using `pandas.DataFrame.to_sql()`, which does not include primary key or foreign key constraints by default, we manually add them afterward using SQL `ALTER TABLE` statements in pgAdmin.\n",
    "\n",
    "Below is the SQL code to define primary keys and foreign keys for the 10 normalized tables:\n"
   ]
  },
  {
   "cell_type": "markdown",
   "id": "7d91075c-f242-486f-a48a-b3af1be20700",
   "metadata": {},
   "source": [
    "### Add primary key in pgadmin\n",
    "``` sql\n",
    "ALTER TABLE products ADD PRIMARY KEY (product_id);\n",
    "ALTER TABLE product_lines ADD PRIMARY KEY (product_line_id);\n",
    "ALTER TABLE cities ADD PRIMARY KEY (city_id);\n",
    "ALTER TABLE stores ADD PRIMARY KEY (store_id);\n",
    "ALTER TABLE customers ADD PRIMARY KEY (customer_id);\n",
    "ALTER TABLE payments ADD PRIMARY KEY (payment_id);\n",
    "ALTER TABLE calendar ADD PRIMARY KEY (transaction_date);\n",
    "ALTER TABLE sales_transactions ADD PRIMARY KEY (invoice_id);\n",
    "ALTER TABLE financials ADD PRIMARY KEY (invoice_id);\n",
    "ALTER TABLE sales_items ADD PRIMARY KEY (invoice_id, product_id);"
   ]
  },
  {
   "cell_type": "markdown",
   "id": "085a860b-8398-4fe0-a076-c837dab732e1",
   "metadata": {},
   "source": [
    "### Add foreign key in pgadmin\n",
    "``` sql\n",
    "ALTER TABLE sales_transactions\n",
    "ADD CONSTRAINT fk_sales_transactions_payment\n",
    "FOREIGN KEY (payment_method) REFERENCES payments(payment_id);\n",
    "\n",
    "ALTER TABLE sales_transactions\n",
    "ADD CONSTRAINT fk_sales_transactions_store\n",
    "FOREIGN KEY (store_id) REFERENCES stores(store_id);\n",
    "\n",
    "ALTER TABLE sales_transactions\n",
    "ADD CONSTRAINT fk_sales_transactions_customer\n",
    "FOREIGN KEY (customer_id) REFERENCES customers(customer_id);\n",
    "\n",
    "ALTER TABLE stores\n",
    "ADD CONSTRAINT fk_stores_city\n",
    "FOREIGN KEY (city_id) REFERENCES cities(city_id);\n",
    "\n",
    "ALTER TABLE products\n",
    "ADD CONSTRAINT fk_products_product_line\n",
    "FOREIGN KEY (product_line_id) REFERENCES product_lines(product_line_id);\n",
    "\n",
    "ALTER TABLE sales_items\n",
    "ADD CONSTRAINT fk_sales_items_invoice\n",
    "FOREIGN KEY (invoice_id) REFERENCES sales_transactions(invoice_id);\n",
    "\n",
    "ALTER TABLE sales_items\n",
    "ADD CONSTRAINT fk_sales_items_product\n",
    "FOREIGN KEY (product_id) REFERENCES products(product_id);\n",
    "\n",
    "ALTER TABLE financials\n",
    "ADD CONSTRAINT fk_financials_invoice\n",
    "FOREIGN KEY (invoice_id) REFERENCES sales_transactions(invoice_id);\n",
    "\n",
    "ALTER TABLE sales_transactions\n",
    "ADD CONSTRAINT fk_sales_transactions_date\n",
    "FOREIGN KEY (transaction_date) REFERENCES calendar(transaction_date);"
   ]
  },
  {
   "cell_type": "code",
   "execution_count": null,
   "id": "14510609-4004-40e8-bbbf-3a4886e79bd6",
   "metadata": {},
   "outputs": [],
   "source": []
  }
 ],
 "metadata": {
  "kernelspec": {
   "display_name": "Python [conda env:base] *",
   "language": "python",
   "name": "conda-base-py"
  },
  "language_info": {
   "codemirror_mode": {
    "name": "ipython",
    "version": 3
   },
   "file_extension": ".py",
   "mimetype": "text/x-python",
   "name": "python",
   "nbconvert_exporter": "python",
   "pygments_lexer": "ipython3",
   "version": "3.12.7"
  }
 },
 "nbformat": 4,
 "nbformat_minor": 5
}
